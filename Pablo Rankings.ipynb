{
 "cells": [
  {
   "cell_type": "code",
   "execution_count": 1,
   "metadata": {},
   "outputs": [],
   "source": [
    "import pandas as pd\n",
    "from selenium import webdriver"
   ]
  },
  {
   "cell_type": "code",
   "execution_count": 2,
   "metadata": {},
   "outputs": [],
   "source": [
    "rich_kern_logon_url = 'http://www.richkern.com/vb/FreePage.asp'\n",
    "Rich_kern_rankings_url = 'http://www.richkern.com/vb/rankings/indexsub.asp?Div=DI&VBYear=2020'\n",
    "pablo_composite_url = 'http://www.richkern.com/vb/rankings/PabloComposite.asp'"
   ]
  },
  {
   "cell_type": "code",
   "execution_count": 18,
   "metadata": {},
   "outputs": [],
   "source": [
    "rkcred = pd.read_csv('rkcred.csv')"
   ]
  },
  {
   "cell_type": "code",
   "execution_count": 17,
   "metadata": {},
   "outputs": [],
   "source": [
    "driver = webdriver.Chrome()\n",
    "driver.get(rich_kern_logon_url)\n",
    "\n",
    "driver.find_element_by_name('email').send_keys(rkcred['UserName'].item())\n",
    "driver.find_element_by_name('password').send_keys(rkcred['Password'].item())\n",
    "driver.find_element_by_xpath(\"//input[@value='Logon']\").click()\n",
    "\n",
    "driver.get(pablo_composite_url)"
   ]
  },
  {
   "cell_type": "code",
   "execution_count": 4,
   "metadata": {},
   "outputs": [],
   "source": [
    "dfs = pd.read_html(driver.page_source)\n",
    "driver.close()"
   ]
  },
  {
   "cell_type": "code",
   "execution_count": 5,
   "metadata": {},
   "outputs": [],
   "source": [
    "all_ranks = pd.DataFrame(dfs[0].iloc[1:,:].values, columns=dfs[0].iloc[0,:])"
   ]
  },
  {
   "cell_type": "code",
   "execution_count": 6,
   "metadata": {},
   "outputs": [],
   "source": [
    "d2 = all_ranks[all_ranks['Division'] == 'D2']"
   ]
  },
  {
   "cell_type": "code",
   "execution_count": 8,
   "metadata": {},
   "outputs": [],
   "source": [
    "d2.to_csv('Pablo D2 Rankings.csv', index=False)"
   ]
  },
  {
   "cell_type": "code",
   "execution_count": null,
   "metadata": {},
   "outputs": [],
   "source": []
  }
 ],
 "metadata": {
  "kernelspec": {
   "display_name": "Python 3",
   "language": "python",
   "name": "python3"
  },
  "language_info": {
   "codemirror_mode": {
    "name": "ipython",
    "version": 3
   },
   "file_extension": ".py",
   "mimetype": "text/x-python",
   "name": "python",
   "nbconvert_exporter": "python",
   "pygments_lexer": "ipython3",
   "version": "3.7.7"
  }
 },
 "nbformat": 4,
 "nbformat_minor": 4
}
